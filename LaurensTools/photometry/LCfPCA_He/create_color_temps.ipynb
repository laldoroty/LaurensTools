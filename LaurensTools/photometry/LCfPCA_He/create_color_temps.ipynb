{
 "cells": [
  {
   "cell_type": "code",
   "execution_count": 1,
   "metadata": {},
   "outputs": [],
   "source": [
    "import pandas as pd"
   ]
  },
  {
   "cell_type": "code",
   "execution_count": 14,
   "metadata": {},
   "outputs": [],
   "source": [
    "Btemp = pd.read_csv('bandSpecific_B.txt',sep=' ')\n",
    "Vtemp = pd.read_csv('bandSpecific_V.txt',sep=' ')\n",
    "Rtemp = pd.read_csv('bandSpecific_R.txt',sep=' ')\n",
    "Itemp = pd.read_csv('bandSpecific_I.txt',sep=' ')"
   ]
  },
  {
   "cell_type": "code",
   "execution_count": 13,
   "metadata": {},
   "outputs": [],
   "source": [
    "cols = Btemp.columns.difference(['phase'])\n",
    "BVtemp = pd.DataFrame(Btemp['phase'])\n",
    "BVtemp[cols] = Btemp[cols].sub(Vtemp[cols])\n",
    "\n",
    "BRtemp = pd.DataFrame(Btemp['phase'])\n",
    "BRtemp[cols] = Btemp[cols].sub(Rtemp[cols])\n",
    "\n",
    "BItemp = pd.DataFrame(Btemp['phase'])\n",
    "BItemp[cols] = Btemp[cols].sub(Itemp[cols])\n",
    "\n",
    "BVtemp.to_csv('colormodel_BV.txt',sep=' ',index=False)\n",
    "BRtemp.to_csv('colormodel_BR.txt',sep=' ',index=False)\n",
    "BItemp.to_csv('colormodel_BI.txt',sep=' ',index=False)"
   ]
  },
  {
   "cell_type": "code",
   "execution_count": null,
   "metadata": {},
   "outputs": [],
   "source": []
  }
 ],
 "metadata": {
  "kernelspec": {
   "display_name": "Python 3.9.12 ('cmagic')",
   "language": "python",
   "name": "python3"
  },
  "language_info": {
   "codemirror_mode": {
    "name": "ipython",
    "version": 3
   },
   "file_extension": ".py",
   "mimetype": "text/x-python",
   "name": "python",
   "nbconvert_exporter": "python",
   "pygments_lexer": "ipython3",
   "version": "3.9.12"
  },
  "orig_nbformat": 4,
  "vscode": {
   "interpreter": {
    "hash": "1d2dd44eb9c55aad61707cb42418bc0d68d692223976d22febec34f40cb8311e"
   }
  }
 },
 "nbformat": 4,
 "nbformat_minor": 2
}
